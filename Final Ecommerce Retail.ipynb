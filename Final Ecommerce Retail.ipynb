{
 "cells": [
  {
   "cell_type": "markdown",
   "id": "151aeb80-4fc4-4c44-8735-af5392082676",
   "metadata": {},
   "source": [
    "# I. Overview of Customer Segmentation - RFM Analysis"
   ]
  },
  {
   "cell_type": "markdown",
   "id": "8e3e3797-c2a7-402f-b637-194b9433860e",
   "metadata": {
    "tags": []
   },
   "source": [
    "**Customer segmentation** is the practice of dividing a company’s customers into groups that reflect similarity among customers in each group. The goal of segmenting customers is to decide how to relate to customers in each segment in order to maximize the value of each customer to the business.\n"
   ]
  },
  {
   "cell_type": "markdown",
   "id": "be598274-81de-45e3-8c14-5576184fc169",
   "metadata": {},
   "source": [
    "**RFM (Recency, Frequency and Monetary) Analysis** is a way to use data based on existing customer behavior to predict how a new customer is likely to act in the future. RFM Segment based on three customer attributes:\n",
    "* Recency (R): How long since customer's the last purchase?\n",
    "* Frequency (F): How many purchases customer have made over the period?\n",
    "* Monetary (M): How much each customer spend on the business's services?"
   ]
  },
  {
   "cell_type": "markdown",
   "id": "1505ec94-bfb0-4a31-926b-9364280d897d",
   "metadata": {},
   "source": [
    "# II. Data Set Overview"
   ]
  },
  {
   "cell_type": "code",
   "execution_count": 24,
   "id": "e5ca5461-6928-4c9c-a3dd-d2597063d9dd",
   "metadata": {
    "tags": []
   },
   "outputs": [
    {
     "name": "stdout",
     "output_type": "stream",
     "text": [
      "Requirement already satisfied: squarify in /Users/huuthinle/anaconda3/lib/python3.11/site-packages (0.4.3)\n",
      "Note: you may need to restart the kernel to use updated packages.\n"
     ]
    }
   ],
   "source": [
    "pip install squarify "
   ]
  },
  {
   "cell_type": "code",
   "execution_count": 31,
   "id": "c8891313-02b4-407f-9d0a-49a4b5079b05",
   "metadata": {
    "tags": []
   },
   "outputs": [],
   "source": [
    "#First of all, let's import all libraries\n",
    "import pandas as pd\n",
    "import numpy as np\n",
    "import matplotlib.pyplot as plt\n",
    "import plotly.express as px\n",
    "import seaborn as sns\n",
    "from datetime import datetime\n",
    "import json\n",
    "from urllib.request import urlopen\n",
    "import squarify    # pip install squarify (algorithm for treemap)\n"
   ]
  },
  {
   "cell_type": "code",
   "execution_count": 32,
   "id": "fb5fdc3d-edf2-4d27-89a9-9f585997466c",
   "metadata": {
    "tags": []
   },
   "outputs": [
    {
     "ename": "PermissionError",
     "evalue": "[Errno 1] Operation not permitted: '/Users/huuthinle/Documents/GitHub/Ecommerce-Retail/ecommerce retail.xlsx'",
     "output_type": "error",
     "traceback": [
      "\u001b[0;31m---------------------------------------------------------------------------\u001b[0m",
      "\u001b[0;31mPermissionError\u001b[0m                           Traceback (most recent call last)",
      "Cell \u001b[0;32mIn[32], line 2\u001b[0m\n\u001b[1;32m      1\u001b[0m \u001b[38;5;66;03m# Import data set\u001b[39;00m\n\u001b[0;32m----> 2\u001b[0m data \u001b[38;5;241m=\u001b[39m pd\u001b[38;5;241m.\u001b[39mread_excel(\u001b[38;5;124m'\u001b[39m\u001b[38;5;124m/Users/huuthinle/Documents/GitHub/Ecommerce-Retail/ecommerce retail.xlsx\u001b[39m\u001b[38;5;124m'\u001b[39m)\n",
      "File \u001b[0;32m~/anaconda3/lib/python3.11/site-packages/pandas/io/excel/_base.py:478\u001b[0m, in \u001b[0;36mread_excel\u001b[0;34m(io, sheet_name, header, names, index_col, usecols, dtype, engine, converters, true_values, false_values, skiprows, nrows, na_values, keep_default_na, na_filter, verbose, parse_dates, date_parser, date_format, thousands, decimal, comment, skipfooter, storage_options, dtype_backend)\u001b[0m\n\u001b[1;32m    476\u001b[0m \u001b[38;5;28;01mif\u001b[39;00m \u001b[38;5;129;01mnot\u001b[39;00m \u001b[38;5;28misinstance\u001b[39m(io, ExcelFile):\n\u001b[1;32m    477\u001b[0m     should_close \u001b[38;5;241m=\u001b[39m \u001b[38;5;28;01mTrue\u001b[39;00m\n\u001b[0;32m--> 478\u001b[0m     io \u001b[38;5;241m=\u001b[39m ExcelFile(io, storage_options\u001b[38;5;241m=\u001b[39mstorage_options, engine\u001b[38;5;241m=\u001b[39mengine)\n\u001b[1;32m    479\u001b[0m \u001b[38;5;28;01melif\u001b[39;00m engine \u001b[38;5;129;01mand\u001b[39;00m engine \u001b[38;5;241m!=\u001b[39m io\u001b[38;5;241m.\u001b[39mengine:\n\u001b[1;32m    480\u001b[0m     \u001b[38;5;28;01mraise\u001b[39;00m \u001b[38;5;167;01mValueError\u001b[39;00m(\n\u001b[1;32m    481\u001b[0m         \u001b[38;5;124m\"\u001b[39m\u001b[38;5;124mEngine should not be specified when passing \u001b[39m\u001b[38;5;124m\"\u001b[39m\n\u001b[1;32m    482\u001b[0m         \u001b[38;5;124m\"\u001b[39m\u001b[38;5;124man ExcelFile - ExcelFile already has the engine set\u001b[39m\u001b[38;5;124m\"\u001b[39m\n\u001b[1;32m    483\u001b[0m     )\n",
      "File \u001b[0;32m~/anaconda3/lib/python3.11/site-packages/pandas/io/excel/_base.py:1496\u001b[0m, in \u001b[0;36mExcelFile.__init__\u001b[0;34m(self, path_or_buffer, engine, storage_options)\u001b[0m\n\u001b[1;32m   1494\u001b[0m     ext \u001b[38;5;241m=\u001b[39m \u001b[38;5;124m\"\u001b[39m\u001b[38;5;124mxls\u001b[39m\u001b[38;5;124m\"\u001b[39m\n\u001b[1;32m   1495\u001b[0m \u001b[38;5;28;01melse\u001b[39;00m:\n\u001b[0;32m-> 1496\u001b[0m     ext \u001b[38;5;241m=\u001b[39m inspect_excel_format(\n\u001b[1;32m   1497\u001b[0m         content_or_path\u001b[38;5;241m=\u001b[39mpath_or_buffer, storage_options\u001b[38;5;241m=\u001b[39mstorage_options\n\u001b[1;32m   1498\u001b[0m     )\n\u001b[1;32m   1499\u001b[0m     \u001b[38;5;28;01mif\u001b[39;00m ext \u001b[38;5;129;01mis\u001b[39;00m \u001b[38;5;28;01mNone\u001b[39;00m:\n\u001b[1;32m   1500\u001b[0m         \u001b[38;5;28;01mraise\u001b[39;00m \u001b[38;5;167;01mValueError\u001b[39;00m(\n\u001b[1;32m   1501\u001b[0m             \u001b[38;5;124m\"\u001b[39m\u001b[38;5;124mExcel file format cannot be determined, you must specify \u001b[39m\u001b[38;5;124m\"\u001b[39m\n\u001b[1;32m   1502\u001b[0m             \u001b[38;5;124m\"\u001b[39m\u001b[38;5;124man engine manually.\u001b[39m\u001b[38;5;124m\"\u001b[39m\n\u001b[1;32m   1503\u001b[0m         )\n",
      "File \u001b[0;32m~/anaconda3/lib/python3.11/site-packages/pandas/io/excel/_base.py:1371\u001b[0m, in \u001b[0;36minspect_excel_format\u001b[0;34m(content_or_path, storage_options)\u001b[0m\n\u001b[1;32m   1368\u001b[0m \u001b[38;5;28;01mif\u001b[39;00m \u001b[38;5;28misinstance\u001b[39m(content_or_path, \u001b[38;5;28mbytes\u001b[39m):\n\u001b[1;32m   1369\u001b[0m     content_or_path \u001b[38;5;241m=\u001b[39m BytesIO(content_or_path)\n\u001b[0;32m-> 1371\u001b[0m \u001b[38;5;28;01mwith\u001b[39;00m get_handle(\n\u001b[1;32m   1372\u001b[0m     content_or_path, \u001b[38;5;124m\"\u001b[39m\u001b[38;5;124mrb\u001b[39m\u001b[38;5;124m\"\u001b[39m, storage_options\u001b[38;5;241m=\u001b[39mstorage_options, is_text\u001b[38;5;241m=\u001b[39m\u001b[38;5;28;01mFalse\u001b[39;00m\n\u001b[1;32m   1373\u001b[0m ) \u001b[38;5;28;01mas\u001b[39;00m handle:\n\u001b[1;32m   1374\u001b[0m     stream \u001b[38;5;241m=\u001b[39m handle\u001b[38;5;241m.\u001b[39mhandle\n\u001b[1;32m   1375\u001b[0m     stream\u001b[38;5;241m.\u001b[39mseek(\u001b[38;5;241m0\u001b[39m)\n",
      "File \u001b[0;32m~/anaconda3/lib/python3.11/site-packages/pandas/io/common.py:868\u001b[0m, in \u001b[0;36mget_handle\u001b[0;34m(path_or_buf, mode, encoding, compression, memory_map, is_text, errors, storage_options)\u001b[0m\n\u001b[1;32m    859\u001b[0m         handle \u001b[38;5;241m=\u001b[39m \u001b[38;5;28mopen\u001b[39m(\n\u001b[1;32m    860\u001b[0m             handle,\n\u001b[1;32m    861\u001b[0m             ioargs\u001b[38;5;241m.\u001b[39mmode,\n\u001b[0;32m   (...)\u001b[0m\n\u001b[1;32m    864\u001b[0m             newline\u001b[38;5;241m=\u001b[39m\u001b[38;5;124m\"\u001b[39m\u001b[38;5;124m\"\u001b[39m,\n\u001b[1;32m    865\u001b[0m         )\n\u001b[1;32m    866\u001b[0m     \u001b[38;5;28;01melse\u001b[39;00m:\n\u001b[1;32m    867\u001b[0m         \u001b[38;5;66;03m# Binary mode\u001b[39;00m\n\u001b[0;32m--> 868\u001b[0m         handle \u001b[38;5;241m=\u001b[39m \u001b[38;5;28mopen\u001b[39m(handle, ioargs\u001b[38;5;241m.\u001b[39mmode)\n\u001b[1;32m    869\u001b[0m     handles\u001b[38;5;241m.\u001b[39mappend(handle)\n\u001b[1;32m    871\u001b[0m \u001b[38;5;66;03m# Convert BytesIO or file objects passed with an encoding\u001b[39;00m\n",
      "\u001b[0;31mPermissionError\u001b[0m: [Errno 1] Operation not permitted: '/Users/huuthinle/Documents/GitHub/Ecommerce-Retail/ecommerce retail.xlsx'"
     ]
    }
   ],
   "source": [
    "# Import data set\n",
    "data = pd.read_excel('/Users/huuthinle/Documents/GitHub/Ecommerce-Retail/ecommerce retail.xlsx')"
   ]
  },
  {
   "cell_type": "code",
   "execution_count": 6,
   "id": "72f92b6e-c093-4423-b836-87232c5da747",
   "metadata": {
    "tags": []
   },
   "outputs": [
    {
     "ename": "NameError",
     "evalue": "name 'data' is not defined",
     "output_type": "error",
     "traceback": [
      "\u001b[0;31m---------------------------------------------------------------------------\u001b[0m",
      "\u001b[0;31mNameError\u001b[0m                                 Traceback (most recent call last)",
      "Cell \u001b[0;32mIn[6], line 2\u001b[0m\n\u001b[1;32m      1\u001b[0m \u001b[38;5;66;03m# Checking for missing values\u001b[39;00m\n\u001b[0;32m----> 2\u001b[0m missing_data \u001b[38;5;241m=\u001b[39m data\u001b[38;5;241m.\u001b[39misnull()\u001b[38;5;241m.\u001b[39msum()\n\u001b[1;32m      3\u001b[0m missing_percentage \u001b[38;5;241m=\u001b[39m (missing_data\u001b[38;5;241m/\u001b[39m \u001b[38;5;28mlen\u001b[39m(data)) \u001b[38;5;241m*\u001b[39m \u001b[38;5;241m100\u001b[39m\n\u001b[1;32m      4\u001b[0m missing_info \u001b[38;5;241m=\u001b[39m pd\u001b[38;5;241m.\u001b[39mDataFrame({\u001b[38;5;124m'\u001b[39m\u001b[38;5;124mCount\u001b[39m\u001b[38;5;124m'\u001b[39m: missing_data, \u001b[38;5;124m'\u001b[39m\u001b[38;5;124mPercentage\u001b[39m\u001b[38;5;124m'\u001b[39m: missing_percentage})\n",
      "\u001b[0;31mNameError\u001b[0m: name 'data' is not defined"
     ]
    }
   ],
   "source": [
    "# Checking for missing values\n",
    "missing_data = data.isnull().sum()\n",
    "missing_percentage = (missing_data/ len(data)) * 100\n",
    "missing_info = pd.DataFrame({'Count': missing_data, 'Percentage': missing_percentage})\n",
    "print(\"Missing Data Information:\")\n",
    "print(missing_info)\n",
    "\n",
    "# Checking for unique values in each column to understand the data better\n",
    "print(\"\\nUnique Values Information:\")\n",
    "for column in data.columns:\n",
    "    print(f\"{column}: {data[column].nunique()} unique values\")"
   ]
  },
  {
   "cell_type": "code",
   "execution_count": 7,
   "id": "da06c235-93d0-4e33-ad51-b7021ff572de",
   "metadata": {
    "tags": []
   },
   "outputs": [
    {
     "ename": "NameError",
     "evalue": "name 'data' is not defined",
     "output_type": "error",
     "traceback": [
      "\u001b[0;31m---------------------------------------------------------------------------\u001b[0m",
      "\u001b[0;31mNameError\u001b[0m                                 Traceback (most recent call last)",
      "Cell \u001b[0;32mIn[7], line 2\u001b[0m\n\u001b[1;32m      1\u001b[0m \u001b[38;5;66;03m#Data Information\u001b[39;00m\n\u001b[0;32m----> 2\u001b[0m data\u001b[38;5;241m.\u001b[39minfo()\n",
      "\u001b[0;31mNameError\u001b[0m: name 'data' is not defined"
     ]
    }
   ],
   "source": [
    "#Data Information\n",
    "data.info()"
   ]
  },
  {
   "cell_type": "code",
   "execution_count": 8,
   "id": "2525ae3c-2e7b-4133-8b60-9982835c2d86",
   "metadata": {
    "tags": []
   },
   "outputs": [
    {
     "ename": "NameError",
     "evalue": "name 'data' is not defined",
     "output_type": "error",
     "traceback": [
      "\u001b[0;31m---------------------------------------------------------------------------\u001b[0m",
      "\u001b[0;31mNameError\u001b[0m                                 Traceback (most recent call last)",
      "Cell \u001b[0;32mIn[8], line 2\u001b[0m\n\u001b[1;32m      1\u001b[0m \u001b[38;5;66;03m## Remove null values\u001b[39;00m\n\u001b[0;32m----> 2\u001b[0m data \u001b[38;5;241m=\u001b[39m data\u001b[38;5;241m.\u001b[39mdropna()\n",
      "\u001b[0;31mNameError\u001b[0m: name 'data' is not defined"
     ]
    }
   ],
   "source": [
    "## Remove null values\n",
    "data = data.dropna()"
   ]
  },
  {
   "cell_type": "code",
   "execution_count": 9,
   "id": "d93b4584-2844-4004-89db-9538ad22602f",
   "metadata": {
    "tags": []
   },
   "outputs": [
    {
     "ename": "NameError",
     "evalue": "name 'data' is not defined",
     "output_type": "error",
     "traceback": [
      "\u001b[0;31m---------------------------------------------------------------------------\u001b[0m",
      "\u001b[0;31mNameError\u001b[0m                                 Traceback (most recent call last)",
      "Cell \u001b[0;32mIn[9], line 2\u001b[0m\n\u001b[1;32m      1\u001b[0m \u001b[38;5;66;03m#CustomerID: float64 -> int64\u001b[39;00m\n\u001b[0;32m----> 2\u001b[0m data[\u001b[38;5;124m'\u001b[39m\u001b[38;5;124mCustomerID\u001b[39m\u001b[38;5;124m'\u001b[39m] \u001b[38;5;241m=\u001b[39m data[\u001b[38;5;124m'\u001b[39m\u001b[38;5;124mCustomerID\u001b[39m\u001b[38;5;124m'\u001b[39m]\u001b[38;5;241m.\u001b[39mastype(\u001b[38;5;28mint\u001b[39m)\n\u001b[1;32m      3\u001b[0m data\n",
      "\u001b[0;31mNameError\u001b[0m: name 'data' is not defined"
     ]
    }
   ],
   "source": [
    "#CustomerID: float64 -> int64\n",
    "data['CustomerID'] = data['CustomerID'].astype(int)\n",
    "data"
   ]
  },
  {
   "cell_type": "code",
   "execution_count": 10,
   "id": "64709766-7b2c-4b01-8f45-ab52f322b737",
   "metadata": {
    "tags": []
   },
   "outputs": [
    {
     "ename": "NameError",
     "evalue": "name 'data' is not defined",
     "output_type": "error",
     "traceback": [
      "\u001b[0;31m---------------------------------------------------------------------------\u001b[0m",
      "\u001b[0;31mNameError\u001b[0m                                 Traceback (most recent call last)",
      "Cell \u001b[0;32mIn[10], line 2\u001b[0m\n\u001b[1;32m      1\u001b[0m \u001b[38;5;66;03m# Descriptive Statistics about the Data\u001b[39;00m\n\u001b[0;32m----> 2\u001b[0m data\u001b[38;5;241m.\u001b[39mdescribe()\n",
      "\u001b[0;31mNameError\u001b[0m: name 'data' is not defined"
     ]
    }
   ],
   "source": [
    "# Descriptive Statistics about the Data\n",
    "data.describe()"
   ]
  },
  {
   "cell_type": "code",
   "execution_count": 11,
   "id": "92ef98fd-d6a8-4dba-ae3a-f0c4aad6f82c",
   "metadata": {
    "tags": []
   },
   "outputs": [
    {
     "ename": "NameError",
     "evalue": "name 'data' is not defined",
     "output_type": "error",
     "traceback": [
      "\u001b[0;31m---------------------------------------------------------------------------\u001b[0m",
      "\u001b[0;31mNameError\u001b[0m                                 Traceback (most recent call last)",
      "Cell \u001b[0;32mIn[11], line 2\u001b[0m\n\u001b[1;32m      1\u001b[0m \u001b[38;5;66;03m## Remove canceled transactions, (quantity >0 & unit price >0):\u001b[39;00m\n\u001b[0;32m----> 2\u001b[0m data \u001b[38;5;241m=\u001b[39m data[(data[\u001b[38;5;124m'\u001b[39m\u001b[38;5;124mQuantity\u001b[39m\u001b[38;5;124m'\u001b[39m] \u001b[38;5;241m>\u001b[39m\u001b[38;5;241m0\u001b[39m) \u001b[38;5;241m&\u001b[39m (data [\u001b[38;5;124m'\u001b[39m\u001b[38;5;124mUnitPrice\u001b[39m\u001b[38;5;124m'\u001b[39m] \u001b[38;5;241m>\u001b[39m \u001b[38;5;241m0\u001b[39m)]\n\u001b[1;32m      3\u001b[0m data\u001b[38;5;241m.\u001b[39mhead()\n",
      "\u001b[0;31mNameError\u001b[0m: name 'data' is not defined"
     ]
    }
   ],
   "source": [
    "## Remove canceled transactions, (quantity >0 & unit price >0):\n",
    "data = data[(data['Quantity'] >0) & (data ['UnitPrice'] > 0)]\n",
    "data.head()"
   ]
  },
  {
   "cell_type": "markdown",
   "id": "79d0de8d-b5a4-4f0c-9715-94d100488293",
   "metadata": {
    "tags": []
   },
   "source": [
    "# III. Distribution of Recency, Frequency, and Monetary\n"
   ]
  },
  {
   "cell_type": "markdown",
   "id": "c06b74b5-fdd5-41f7-8e6a-7a0c6aa0d560",
   "metadata": {},
   "source": [
    "How to calculate R-F-M score: \n",
    "* Recency: Calculate the number of days between the ending date and last date of purchase each customer.\n",
    "* Frequency: Calculate the number of orders for each customer over the specific period.\n",
    "* Monetary: Calculate sum of purchase price multipled quantity purchased by each customer."
   ]
  },
  {
   "cell_type": "code",
   "execution_count": 12,
   "id": "3684fcd0-ada0-4874-a218-29bb2fb53e84",
   "metadata": {
    "tags": []
   },
   "outputs": [
    {
     "ename": "NameError",
     "evalue": "name 'data' is not defined",
     "output_type": "error",
     "traceback": [
      "\u001b[0;31m---------------------------------------------------------------------------\u001b[0m",
      "\u001b[0;31mNameError\u001b[0m                                 Traceback (most recent call last)",
      "Cell \u001b[0;32mIn[12], line 2\u001b[0m\n\u001b[1;32m      1\u001b[0m \u001b[38;5;66;03m# Calculate Monetary:\u001b[39;00m\n\u001b[0;32m----> 2\u001b[0m data[\u001b[38;5;124m'\u001b[39m\u001b[38;5;124mMonetary\u001b[39m\u001b[38;5;124m'\u001b[39m] \u001b[38;5;241m=\u001b[39m data[\u001b[38;5;124m'\u001b[39m\u001b[38;5;124mQuantity\u001b[39m\u001b[38;5;124m'\u001b[39m]\u001b[38;5;241m*\u001b[39mdata[\u001b[38;5;124m'\u001b[39m\u001b[38;5;124mUnitPrice\u001b[39m\u001b[38;5;124m'\u001b[39m]\n\u001b[1;32m      3\u001b[0m Rfm \u001b[38;5;241m=\u001b[39mdata\u001b[38;5;241m.\u001b[39mgroupby(\u001b[38;5;124m'\u001b[39m\u001b[38;5;124mCustomerID\u001b[39m\u001b[38;5;124m'\u001b[39m)[\u001b[38;5;124m'\u001b[39m\u001b[38;5;124mMonetary\u001b[39m\u001b[38;5;124m'\u001b[39m]\u001b[38;5;241m.\u001b[39msum()\n\u001b[1;32m      4\u001b[0m rfm \u001b[38;5;241m=\u001b[39m pd\u001b[38;5;241m.\u001b[39mDataFrame(Rfm)\n",
      "\u001b[0;31mNameError\u001b[0m: name 'data' is not defined"
     ]
    }
   ],
   "source": [
    "# Calculate Monetary:\n",
    "data['Monetary'] = data['Quantity']*data['UnitPrice']\n",
    "Rfm =data.groupby('CustomerID')['Monetary'].sum()\n",
    "rfm = pd.DataFrame(Rfm)\n",
    "\n",
    "last_day = \"2011,12,31\"\n",
    "\n",
    "# Convert last_day to a datetime object\n",
    "last_day = datetime.strptime(last_day, \"%Y,%m,%d\")\n",
    "\n",
    "# Calculate recency (Recency) for each customer\n",
    "rfm['Recency'] = (last_day - data.groupby('CustomerID')['InvoiceDate'].max()).dt.days\n",
    "\n",
    "#Calculate Frequency:\n",
    "rfm['Frequency'] = data.groupby('CustomerID')['InvoiceNo'].nunique()\n",
    "rfm"
   ]
  },
  {
   "cell_type": "code",
   "execution_count": 13,
   "id": "98f8b1d2-611e-4202-b74a-f440b038abde",
   "metadata": {
    "tags": []
   },
   "outputs": [
    {
     "ename": "NameError",
     "evalue": "name 'data' is not defined",
     "output_type": "error",
     "traceback": [
      "\u001b[0;31m---------------------------------------------------------------------------\u001b[0m",
      "\u001b[0;31mNameError\u001b[0m                                 Traceback (most recent call last)",
      "Cell \u001b[0;32mIn[13], line 7\u001b[0m\n\u001b[1;32m      4\u001b[0m last_day \u001b[38;5;241m=\u001b[39m datetime\u001b[38;5;241m.\u001b[39mstrptime(last_day, \u001b[38;5;124m\"\u001b[39m\u001b[38;5;124m%\u001b[39m\u001b[38;5;124mY,\u001b[39m\u001b[38;5;124m%\u001b[39m\u001b[38;5;124mm,\u001b[39m\u001b[38;5;132;01m%d\u001b[39;00m\u001b[38;5;124m\"\u001b[39m)\n\u001b[1;32m      6\u001b[0m \u001b[38;5;66;03m# Calculate recency (Recency) for each customer\u001b[39;00m\n\u001b[0;32m----> 7\u001b[0m rfm[\u001b[38;5;124m'\u001b[39m\u001b[38;5;124mRecency\u001b[39m\u001b[38;5;124m'\u001b[39m] \u001b[38;5;241m=\u001b[39m (last_day \u001b[38;5;241m-\u001b[39m data\u001b[38;5;241m.\u001b[39mgroupby(\u001b[38;5;124m'\u001b[39m\u001b[38;5;124mCustomerID\u001b[39m\u001b[38;5;124m'\u001b[39m)[\u001b[38;5;124m'\u001b[39m\u001b[38;5;124mInvoiceDate\u001b[39m\u001b[38;5;124m'\u001b[39m]\u001b[38;5;241m.\u001b[39mmax())\u001b[38;5;241m.\u001b[39mdt\u001b[38;5;241m.\u001b[39mdays\n\u001b[1;32m      9\u001b[0m \u001b[38;5;66;03m#Calculate Frequency:\u001b[39;00m\n\u001b[1;32m     10\u001b[0m rfm[\u001b[38;5;124m'\u001b[39m\u001b[38;5;124mFrequency\u001b[39m\u001b[38;5;124m'\u001b[39m] \u001b[38;5;241m=\u001b[39m data\u001b[38;5;241m.\u001b[39mgroupby(\u001b[38;5;124m'\u001b[39m\u001b[38;5;124mCustomerID\u001b[39m\u001b[38;5;124m'\u001b[39m)[\u001b[38;5;124m'\u001b[39m\u001b[38;5;124mInvoiceNo\u001b[39m\u001b[38;5;124m'\u001b[39m]\u001b[38;5;241m.\u001b[39mnunique()\n",
      "\u001b[0;31mNameError\u001b[0m: name 'data' is not defined"
     ]
    }
   ],
   "source": [
    "last_day = \"2011,12,31\"\n",
    "\n",
    "# Convert last_day to a datetime object\n",
    "last_day = datetime.strptime(last_day, \"%Y,%m,%d\")\n",
    "\n",
    "# Calculate recency (Recency) for each customer\n",
    "rfm['Recency'] = (last_day - data.groupby('CustomerID')['InvoiceDate'].max()).dt.days\n",
    "\n",
    "#Calculate Frequency:\n",
    "rfm['Frequency'] = data.groupby('CustomerID')['InvoiceNo'].nunique()\n",
    "rfm"
   ]
  },
  {
   "cell_type": "code",
   "execution_count": 14,
   "id": "2606d731-25d2-4649-a1eb-608a91f66358",
   "metadata": {
    "tags": []
   },
   "outputs": [
    {
     "ename": "NameError",
     "evalue": "name 'rfm' is not defined",
     "output_type": "error",
     "traceback": [
      "\u001b[0;31m---------------------------------------------------------------------------\u001b[0m",
      "\u001b[0;31mNameError\u001b[0m                                 Traceback (most recent call last)",
      "Cell \u001b[0;32mIn[14], line 6\u001b[0m\n\u001b[1;32m      3\u001b[0m fig, axes \u001b[38;5;241m=\u001b[39m plt\u001b[38;5;241m.\u001b[39msubplots(\u001b[38;5;241m1\u001b[39m, \u001b[38;5;241m3\u001b[39m, figsize\u001b[38;5;241m=\u001b[39m(\u001b[38;5;241m15\u001b[39m,\u001b[38;5;241m5\u001b[39m))  \u001b[38;5;66;03m# Adjust figsize as needed\u001b[39;00m\n\u001b[1;32m      5\u001b[0m \u001b[38;5;28;01mfor\u001b[39;00m i, col \u001b[38;5;129;01min\u001b[39;00m \u001b[38;5;28menumerate\u001b[39m(colnames):\n\u001b[0;32m----> 6\u001b[0m     sns\u001b[38;5;241m.\u001b[39mhistplot(rfm[col], kde\u001b[38;5;241m=\u001b[39m\u001b[38;5;28;01mTrue\u001b[39;00m, ax\u001b[38;5;241m=\u001b[39maxes[i])\n\u001b[1;32m      7\u001b[0m     axes[i]\u001b[38;5;241m.\u001b[39mset_title(\u001b[38;5;124mf\u001b[39m\u001b[38;5;124m'\u001b[39m\u001b[38;5;124mDistribution of \u001b[39m\u001b[38;5;132;01m{\u001b[39;00mcol\u001b[38;5;132;01m}\u001b[39;00m\u001b[38;5;124m'\u001b[39m)\n\u001b[1;32m      9\u001b[0m \u001b[38;5;66;03m# Adjust layout to prevent overlap\u001b[39;00m\n",
      "\u001b[0;31mNameError\u001b[0m: name 'rfm' is not defined"
     ]
    },
    {
     "data": {
      "image/png": "[encoded data removed]",
      "text/plain": [
       "<Figure size 1080x360 with 3 Axes>"
      ]
     },
     "metadata": {
      "needs_background": "light"
     },
     "output_type": "display_data"
    }
   ],
   "source": [
    "colnames = ['Recency', 'Frequency', 'Monetary']\n",
    "# Create a single figure with 3 subplots\n",
    "fig, axes = plt.subplots(1, 3, figsize=(15,5))  # Adjust figsize as needed\n",
    "\n",
    "for i, col in enumerate(colnames):\n",
    "    sns.histplot(rfm[col], kde=True, ax=axes[i])\n",
    "    axes[i].set_title(f'Distribution of {col}')\n",
    "\n",
    "# Adjust layout to prevent overlap\n",
    "plt.tight_layout()\n",
    "\n",
    "\n",
    "ax_zoom = axes[1].inset_axes([0.5, 0.5, 0.5,0.5])  # Adjust the position and size as needed\n",
    "\n",
    "# Plot the zoomed-in version on the secondary axis\n",
    "sns.histplot(rfm[colnames[1]], kde=True, ax=ax_zoom)\n",
    "ax_zoom.set_xlim(0, 20)  # Adjust the x-axis limits as needed\n",
    "\n",
    "ax_zoom = axes[2].inset_axes([0.5, 0.5, 0.5,0.5])  # Adjust the position and size as needed\n",
    "sns.histplot(rfm[colnames[2]], kde=True, ax=ax_zoom)\n",
    "ax_zoom.set_xlim(0, 9000)  # Adjust the x-axis limits as needed\n",
    "\n",
    "\n",
    "# Show the plot\n",
    "filepath = ('/Users/huuthinle/Desktop/Ecommerce Retail/Distributi.png')\n",
    "plt.savefig(filepath)"
   ]
  },
  {
   "cell_type": "markdown",
   "id": "103aa6bc-92ab-49fb-ad74-9a4aeb727fba",
   "metadata": {},
   "source": [
    "we can note that the histogram of all three distributions are right-skewed:\n",
    "* Distribution of Recency: the rug plot is crowed betwwen 0 and 100, means that there is a high concentration of customers purchasing in the last 100 days, i.e the last 3 months. \n",
    "* Distribution of Frequency: almost customers make under 15 transactions over the year.\n",
    "* Distribution of Monetary: there is not many customers spend more than $7,500. "
   ]
  },
  {
   "cell_type": "markdown",
   "id": "15d56ea2-9ef8-4c1d-8a67-f0cd759b6644",
   "metadata": {
    "tags": []
   },
   "source": [
    "# IV. RFM Scores & Segments\n"
   ]
  },
  {
   "cell_type": "markdown",
   "id": "4262538f-5aa8-4a5d-b509-de475f4c026b",
   "metadata": {
    "tags": []
   },
   "source": [
    "## 1. RFM Scores\n",
    "Based on the RFM model, each customer will be assigned between 1 to 5 for each RFM value. Range from 1 to 5 is equivalent to the worst score to the best score. The RFM score (RFM_score) will be counted by concating values of the three scores (R_score, F_score, M_score). \n",
    "\n",
    "For example, the customer with customerID - 12345 has scores of 1,2,4 in Recency, Frequency, Monetary respectively, so his RFM score is 124."
   ]
  },
  {
   "cell_type": "code",
   "execution_count": 15,
   "id": "95295ae8-270e-4817-8b3b-3bbefb223fde",
   "metadata": {
    "tags": []
   },
   "outputs": [
    {
     "ename": "NameError",
     "evalue": "name 'rfm' is not defined",
     "output_type": "error",
     "traceback": [
      "\u001b[0;31m---------------------------------------------------------------------------\u001b[0m",
      "\u001b[0;31mNameError\u001b[0m                                 Traceback (most recent call last)",
      "Cell \u001b[0;32mIn[15], line 2\u001b[0m\n\u001b[1;32m      1\u001b[0m \u001b[38;5;66;03m#Calculate R_score, F_score, M_score and RFM_score:\u001b[39;00m\n\u001b[0;32m----> 2\u001b[0m rfm[\u001b[38;5;124m'\u001b[39m\u001b[38;5;124mR_score\u001b[39m\u001b[38;5;124m'\u001b[39m] \u001b[38;5;241m=\u001b[39m pd\u001b[38;5;241m.\u001b[39mqcut(rfm[\u001b[38;5;124m'\u001b[39m\u001b[38;5;124mRecency\u001b[39m\u001b[38;5;124m'\u001b[39m], \u001b[38;5;241m5\u001b[39m, labels \u001b[38;5;241m=\u001b[39m [\u001b[38;5;241m5\u001b[39m,\u001b[38;5;241m4\u001b[39m,\u001b[38;5;241m3\u001b[39m,\u001b[38;5;241m2\u001b[39m,\u001b[38;5;241m1\u001b[39m])\n\u001b[1;32m      3\u001b[0m rfm[\u001b[38;5;124m'\u001b[39m\u001b[38;5;124mM_score\u001b[39m\u001b[38;5;124m'\u001b[39m] \u001b[38;5;241m=\u001b[39m pd\u001b[38;5;241m.\u001b[39mqcut(rfm[\u001b[38;5;124m'\u001b[39m\u001b[38;5;124mMonetary\u001b[39m\u001b[38;5;124m'\u001b[39m], \u001b[38;5;241m5\u001b[39m, labels \u001b[38;5;241m=\u001b[39m [\u001b[38;5;241m1\u001b[39m,\u001b[38;5;241m2\u001b[39m,\u001b[38;5;241m3\u001b[39m,\u001b[38;5;241m4\u001b[39m,\u001b[38;5;241m5\u001b[39m])\n\u001b[1;32m      4\u001b[0m rfm[\u001b[38;5;124m'\u001b[39m\u001b[38;5;124mF_score\u001b[39m\u001b[38;5;124m'\u001b[39m] \u001b[38;5;241m=\u001b[39m pd\u001b[38;5;241m.\u001b[39mqcut(rfm[\u001b[38;5;124m'\u001b[39m\u001b[38;5;124mFrequency\u001b[39m\u001b[38;5;124m'\u001b[39m]\u001b[38;5;241m.\u001b[39mrank(method \u001b[38;5;241m=\u001b[39m \u001b[38;5;124m'\u001b[39m\u001b[38;5;124mfirst\u001b[39m\u001b[38;5;124m'\u001b[39m), \u001b[38;5;241m5\u001b[39m, labels \u001b[38;5;241m=\u001b[39m [\u001b[38;5;241m1\u001b[39m,\u001b[38;5;241m2\u001b[39m,\u001b[38;5;241m3\u001b[39m,\u001b[38;5;241m4\u001b[39m,\u001b[38;5;241m5\u001b[39m], duplicates\u001b[38;5;241m=\u001b[39m \u001b[38;5;124m'\u001b[39m\u001b[38;5;124mdrop\u001b[39m\u001b[38;5;124m'\u001b[39m)\n",
      "\u001b[0;31mNameError\u001b[0m: name 'rfm' is not defined"
     ]
    }
   ],
   "source": [
    "#Calculate R_score, F_score, M_score and RFM_score:\n",
    "rfm['R_score'] = pd.qcut(rfm['Recency'], 5, labels = [5,4,3,2,1])\n",
    "rfm['M_score'] = pd.qcut(rfm['Monetary'], 5, labels = [1,2,3,4,5])\n",
    "rfm['F_score'] = pd.qcut(rfm['Frequency'].rank(method = 'first'), 5, labels = [1,2,3,4,5], duplicates= 'drop')\n",
    "rfm['RFM_score'] = rfm['R_score'].astype(str) + rfm['F_score'].astype(str) + rfm['M_score'].astype(str)\n",
    "rfm = rfm.reset_index()\n",
    "rfm"
   ]
  },
  {
   "cell_type": "markdown",
   "id": "98f3b56f-a767-421f-93bc-3ff87ecd433a",
   "metadata": {
    "tags": []
   },
   "source": [
    "## 2. RFM Customer Segments\n",
    "The customer classification based on RFM scores will be following the 'ecommerce retail.xlsx' file (sheet_name: Segmentation). \n",
    "\n",
    "Based on the RFM score, we will devide all customers into several groups:\n",
    "\n",
    "* **Champions** - bought recently, buy often and spend the most\n",
    "* **Loyal Customers** - spend good money and often, responsive to promotions\n",
    "* **Potential Loyalist** - recent customers, but spent a good amount and bought more than once\n",
    "* **New Customers** - bought most recently, but not often\n",
    "* **Promising** - recent shoppers, but haven’t spent much\n",
    "* **Needing Attention** - above average recency, frequency and monetary values; may not have bought very recently though\n",
    "* **About To Sleep** - below average recency, frequency and monetary values; will lose them if not reactivated\n",
    "* **At Risk** - spent big money and purchased often but long time ago; need to bring them back\n",
    "* **Can't Loose Them** - made biggest purchases, and often but haven’t returned for a long time\n",
    "* **Hibernating** - last purchase was long back, low spenders and low number of orders\n",
    "* **Lost Customers** - very small spender, last transaction was long time ago, very low number of transactions.\n"
   ]
  },
  {
   "cell_type": "code",
   "execution_count": 16,
   "id": "d5bb26dd-7e59-4217-ac13-141e6833c50d",
   "metadata": {
    "tags": []
   },
   "outputs": [
    {
     "data": {
      "text/html": [
       "<div>\n",
       "<style scoped>\n",
       "    .dataframe tbody tr th:only-of-type {\n",
       "        vertical-align: middle;\n",
       "    }\n",
       "\n",
       "    .dataframe tbody tr th {\n",
       "        vertical-align: top;\n",
       "    }\n",
       "\n",
       "    .dataframe thead th {\n",
       "        text-align: right;\n",
       "    }\n",
       "</style>\n",
       "<table border=\"1\" class=\"dataframe\">\n",
       "  <thead>\n",
       "    <tr style=\"text-align: right;\">\n",
       "      <th></th>\n",
       "      <th>Segment</th>\n",
       "      <th>RFM Score</th>\n",
       "    </tr>\n",
       "  </thead>\n",
       "  <tbody>\n",
       "    <tr>\n",
       "      <th>0</th>\n",
       "      <td>Champions</td>\n",
       "      <td>555, 554, 544, 545, 454, 455, 445</td>\n",
       "    </tr>\n",
       "    <tr>\n",
       "      <th>1</th>\n",
       "      <td>Loyal</td>\n",
       "      <td>543, 444, 435, 355, 354, 345, 344, 335</td>\n",
       "    </tr>\n",
       "    <tr>\n",
       "      <th>2</th>\n",
       "      <td>Potential Loyalist</td>\n",
       "      <td>553, 551, 552, 541, 542, 533, 532, 531, 452, 4...</td>\n",
       "    </tr>\n",
       "    <tr>\n",
       "      <th>3</th>\n",
       "      <td>New Customers</td>\n",
       "      <td>512, 511, 422, 421, 412, 411, 311</td>\n",
       "    </tr>\n",
       "    <tr>\n",
       "      <th>4</th>\n",
       "      <td>Promising</td>\n",
       "      <td>525, 524, 523, 522, 521, 515, 514, 513, 425,42...</td>\n",
       "    </tr>\n",
       "    <tr>\n",
       "      <th>5</th>\n",
       "      <td>Need Attention</td>\n",
       "      <td>535, 534, 443, 434, 343, 334, 325, 324</td>\n",
       "    </tr>\n",
       "    <tr>\n",
       "      <th>6</th>\n",
       "      <td>About To Sleep</td>\n",
       "      <td>331, 321, 312, 221, 213, 231, 241, 251</td>\n",
       "    </tr>\n",
       "    <tr>\n",
       "      <th>7</th>\n",
       "      <td>At Risk</td>\n",
       "      <td>255, 254, 245, 244, 253, 252, 243, 242, 235, 2...</td>\n",
       "    </tr>\n",
       "    <tr>\n",
       "      <th>8</th>\n",
       "      <td>Cannot Lose Them</td>\n",
       "      <td>155, 154, 144, 214, 215, 115, 114, 113</td>\n",
       "    </tr>\n",
       "    <tr>\n",
       "      <th>9</th>\n",
       "      <td>Hibernating customers</td>\n",
       "      <td>332, 322, 233, 232, 223, 222, 132, 123, 122, 2...</td>\n",
       "    </tr>\n",
       "    <tr>\n",
       "      <th>10</th>\n",
       "      <td>Lost customers</td>\n",
       "      <td>111, 112, 121, 131, 141, 151</td>\n",
       "    </tr>\n",
       "  </tbody>\n",
       "</table>\n",
       "</div>"
      ],
      "text/plain": [
       "                  Segment                                          RFM Score\n",
       "0               Champions                  555, 554, 544, 545, 454, 455, 445\n",
       "1                   Loyal             543, 444, 435, 355, 354, 345, 344, 335\n",
       "2      Potential Loyalist  553, 551, 552, 541, 542, 533, 532, 531, 452, 4...\n",
       "3           New Customers                  512, 511, 422, 421, 412, 411, 311\n",
       "4               Promising  525, 524, 523, 522, 521, 515, 514, 513, 425,42...\n",
       "5          Need Attention             535, 534, 443, 434, 343, 334, 325, 324\n",
       "6          About To Sleep             331, 321, 312, 221, 213, 231, 241, 251\n",
       "7                 At Risk  255, 254, 245, 244, 253, 252, 243, 242, 235, 2...\n",
       "8        Cannot Lose Them             155, 154, 144, 214, 215, 115, 114, 113\n",
       "9   Hibernating customers  332, 322, 233, 232, 223, 222, 132, 123, 122, 2...\n",
       "10         Lost customers                       111, 112, 121, 131, 141, 151"
      ]
     },
     "execution_count": 16,
     "metadata": {},
     "output_type": "execute_result"
    }
   ],
   "source": [
    "#What RFM score means?\n",
    "segment = pd.read_excel('/Users/huuthinle/Desktop/Ecommerce Retail/ecommerce retail.xlsx', sheet_name = 'Segmentation')\n",
    "seg = pd.DataFrame(segment)\n",
    "seg"
   ]
  },
  {
   "cell_type": "code",
   "execution_count": 17,
   "id": "5f443fe3-8c14-434b-bbb3-f95022b71c35",
   "metadata": {
    "tags": []
   },
   "outputs": [
    {
     "ename": "NameError",
     "evalue": "name 'rfm' is not defined",
     "output_type": "error",
     "traceback": [
      "\u001b[0;31m---------------------------------------------------------------------------\u001b[0m",
      "\u001b[0;31mNameError\u001b[0m                                 Traceback (most recent call last)",
      "Cell \u001b[0;32mIn[17], line 5\u001b[0m\n\u001b[1;32m      3\u001b[0m seg \u001b[38;5;241m=\u001b[39m seg\u001b[38;5;241m.\u001b[39mexplode(\u001b[38;5;124m'\u001b[39m\u001b[38;5;124mRFM_score\u001b[39m\u001b[38;5;124m'\u001b[39m)\u001b[38;5;241m.\u001b[39mreset_index(drop\u001b[38;5;241m=\u001b[39m\u001b[38;5;28;01mTrue\u001b[39;00m)\n\u001b[1;32m      4\u001b[0m seg \u001b[38;5;241m=\u001b[39m seg[[\u001b[38;5;124m'\u001b[39m\u001b[38;5;124mSegment\u001b[39m\u001b[38;5;124m'\u001b[39m,\u001b[38;5;124m'\u001b[39m\u001b[38;5;124mRFM_score\u001b[39m\u001b[38;5;124m'\u001b[39m]]\n\u001b[0;32m----> 5\u001b[0m rfm_score \u001b[38;5;241m=\u001b[39mpd\u001b[38;5;241m.\u001b[39mmerge(rfm, seg, on \u001b[38;5;241m=\u001b[39m \u001b[38;5;124m'\u001b[39m\u001b[38;5;124mRFM_score\u001b[39m\u001b[38;5;124m'\u001b[39m)\n\u001b[1;32m      6\u001b[0m rfm_score\n",
      "\u001b[0;31mNameError\u001b[0m: name 'rfm' is not defined"
     ]
    }
   ],
   "source": [
    "# Merge result with seg based on RFM_score, allowing many-to-many merge\n",
    "seg['RFM_score'] = seg['RFM Score'].str.split(', ')\n",
    "seg = seg.explode('RFM_score').reset_index(drop=True)\n",
    "seg = seg[['Segment','RFM_score']]\n",
    "rfm_score =pd.merge(rfm, seg, on = 'RFM_score')\n",
    "rfm_score"
   ]
  },
  {
   "cell_type": "markdown",
   "id": "605b4f6a-649a-43c4-8edc-a3712227d59b",
   "metadata": {
    "tags": []
   },
   "source": [
    "# V. Analysis of RFM Segments"
   ]
  },
  {
   "cell_type": "markdown",
   "id": "bcdbd420-23db-42d4-99ed-f702cd21450b",
   "metadata": {},
   "source": [
    "Based on the RFM segment analysis, it's encouraging to see that the \"Champions\" group, which makes up 20% of the customer base, contributes over 60% of the business revenue. Surprisingly, loyal customers represent just 10% of all customers, generating a comparable amount of revenue. \n",
    "Looking at non-proactive customer groups such as 'At Risk,' 'About to Sleep,' 'Cannot Lose Them,' and 'Hibernating' who comprise 35% of all customers but contribute only 15% of total sales. It's essential to initiate a reach-out campaign for these groups before they turn into 'Lost Customers,' which have increased to over 11% over the past year, generating just 1.09% of revenues."
   ]
  },
  {
   "cell_type": "code",
   "execution_count": 18,
   "id": "fed266e5-6d2c-45f8-b075-e40ff52c489a",
   "metadata": {
    "tags": []
   },
   "outputs": [
    {
     "ename": "NameError",
     "evalue": "name 'rfm_score' is not defined",
     "output_type": "error",
     "traceback": [
      "\u001b[0;31m---------------------------------------------------------------------------\u001b[0m",
      "\u001b[0;31mNameError\u001b[0m                                 Traceback (most recent call last)",
      "Cell \u001b[0;32mIn[18], line 4\u001b[0m\n\u001b[1;32m      2\u001b[0m palette \u001b[38;5;241m=\u001b[39m sns\u001b[38;5;241m.\u001b[39mcolor_palette(\u001b[38;5;124m\"\u001b[39m\u001b[38;5;124mGreens_r\u001b[39m\u001b[38;5;124m\"\u001b[39m, n_colors\u001b[38;5;241m=\u001b[39m\u001b[38;5;241m15\u001b[39m)\n\u001b[1;32m      3\u001b[0m plt\u001b[38;5;241m.\u001b[39mfigure (figsize \u001b[38;5;241m=\u001b[39m (\u001b[38;5;241m10\u001b[39m,\u001b[38;5;241m7\u001b[39m))\n\u001b[0;32m----> 4\u001b[0m sns\u001b[38;5;241m.\u001b[39mcountplot( x \u001b[38;5;241m=\u001b[39m \u001b[38;5;124m'\u001b[39m\u001b[38;5;124mSegment\u001b[39m\u001b[38;5;124m'\u001b[39m, data \u001b[38;5;241m=\u001b[39m rfm_score, palette \u001b[38;5;241m=\u001b[39m palette)\n\u001b[1;32m      5\u001b[0m plt\u001b[38;5;241m.\u001b[39mtitle (\u001b[38;5;124m'\u001b[39m\u001b[38;5;124mNumber of customers in each RFM group\u001b[39m\u001b[38;5;124m'\u001b[39m)\n\u001b[1;32m      6\u001b[0m plt\u001b[38;5;241m.\u001b[39mxticks (rotation \u001b[38;5;241m=\u001b[39m \u001b[38;5;241m90\u001b[39m)\n",
      "\u001b[0;31mNameError\u001b[0m: name 'rfm_score' is not defined"
     ]
    },
    {
     "data": {
      "text/plain": [
       "<Figure size 720x504 with 0 Axes>"
      ]
     },
     "metadata": {},
     "output_type": "display_data"
    }
   ],
   "source": [
    "# Take a quick comparison of No.Customers in each group\n",
    "palette = sns.color_palette(\"Greens_r\", n_colors=15)\n",
    "plt.figure (figsize = (10,7))\n",
    "sns.countplot( x = 'Segment', data = rfm_score, palette = palette)\n",
    "plt.title ('Number of customers in each RFM group')\n",
    "plt.xticks (rotation = 90)\n",
    "plt.xlabel(\"Customer Group\", weight = 'bold', fontsize = 10)\n",
    "plt.ylabel('Number', weight = 'bold', fontsize = 10)\n",
    "plt.tight_layout()\n",
    "# Show the plot\n",
    "filepath = ('/Users/huuthinle/Desktop/Ecommerce Retail/heyyy.png')\n",
    "plt.savefig(filepath)"
   ]
  },
  {
   "cell_type": "code",
   "execution_count": 19,
   "id": "db8a3517-af0d-4f4d-8b29-8f0f7504a717",
   "metadata": {
    "tags": []
   },
   "outputs": [
    {
     "ename": "NameError",
     "evalue": "name 'rfm_score' is not defined",
     "output_type": "error",
     "traceback": [
      "\u001b[0;31m---------------------------------------------------------------------------\u001b[0m",
      "\u001b[0;31mNameError\u001b[0m                                 Traceback (most recent call last)",
      "Cell \u001b[0;32mIn[19], line 6\u001b[0m\n\u001b[1;32m      1\u001b[0m \u001b[38;5;66;03m# Let's see how much each group generates values for the business?\u001b[39;00m\n\u001b[1;32m      2\u001b[0m agg_fun\u001b[38;5;241m=\u001b[39m {\u001b[38;5;124m'\u001b[39m\u001b[38;5;124mCustomerID\u001b[39m\u001b[38;5;124m'\u001b[39m:\u001b[38;5;124m'\u001b[39m\u001b[38;5;124mcount\u001b[39m\u001b[38;5;124m'\u001b[39m,\n\u001b[1;32m      3\u001b[0m           \u001b[38;5;124m'\u001b[39m\u001b[38;5;124mRecency\u001b[39m\u001b[38;5;124m'\u001b[39m:\u001b[38;5;124m'\u001b[39m\u001b[38;5;124mmean\u001b[39m\u001b[38;5;124m'\u001b[39m,\n\u001b[1;32m      4\u001b[0m           \u001b[38;5;124m'\u001b[39m\u001b[38;5;124mFrequency\u001b[39m\u001b[38;5;124m'\u001b[39m: \u001b[38;5;124m'\u001b[39m\u001b[38;5;124mmean\u001b[39m\u001b[38;5;124m'\u001b[39m,\n\u001b[1;32m      5\u001b[0m           \u001b[38;5;124m'\u001b[39m\u001b[38;5;124mMonetary\u001b[39m\u001b[38;5;124m'\u001b[39m:\u001b[38;5;124m'\u001b[39m\u001b[38;5;124msum\u001b[39m\u001b[38;5;124m'\u001b[39m}\n\u001b[0;32m----> 6\u001b[0m cus_gr \u001b[38;5;241m=\u001b[39m rfm_score\u001b[38;5;241m.\u001b[39mgroupby(\u001b[38;5;124m'\u001b[39m\u001b[38;5;124mSegment\u001b[39m\u001b[38;5;124m'\u001b[39m)\u001b[38;5;241m.\u001b[39magg(agg_fun)\u001b[38;5;241m.\u001b[39msort_values (\u001b[38;5;124m'\u001b[39m\u001b[38;5;124mRecency\u001b[39m\u001b[38;5;124m'\u001b[39m)\u001b[38;5;241m.\u001b[39mreset_index()\n\u001b[1;32m      7\u001b[0m cus_gr\u001b[38;5;241m.\u001b[39mrename(columns \u001b[38;5;241m=\u001b[39m {\u001b[38;5;124m'\u001b[39m\u001b[38;5;124mCustomerID\u001b[39m\u001b[38;5;124m'\u001b[39m : \u001b[38;5;124m\"\u001b[39m\u001b[38;5;124mcount\u001b[39m\u001b[38;5;124m\"\u001b[39m}, inplace \u001b[38;5;241m=\u001b[39m \u001b[38;5;28;01mTrue\u001b[39;00m)\n\u001b[1;32m      8\u001b[0m cus_gr[\u001b[38;5;124m'\u001b[39m\u001b[38;5;124mcount_share\u001b[39m\u001b[38;5;124m'\u001b[39m] \u001b[38;5;241m=\u001b[39m cus_gr[\u001b[38;5;124m'\u001b[39m\u001b[38;5;124mcount\u001b[39m\u001b[38;5;124m'\u001b[39m]\u001b[38;5;241m/\u001b[39mcus_gr[\u001b[38;5;124m'\u001b[39m\u001b[38;5;124mcount\u001b[39m\u001b[38;5;124m'\u001b[39m]\u001b[38;5;241m.\u001b[39msum()\n",
      "\u001b[0;31mNameError\u001b[0m: name 'rfm_score' is not defined"
     ]
    }
   ],
   "source": [
    "# Let's see how much each group generates values for the business?\n",
    "agg_fun= {'CustomerID':'count',\n",
    "          'Recency':'mean',\n",
    "          'Frequency': 'mean',\n",
    "          'Monetary':'sum'}\n",
    "cus_gr = rfm_score.groupby('Segment').agg(agg_fun).sort_values ('Recency').reset_index()\n",
    "cus_gr.rename(columns = {'CustomerID' : \"count\"}, inplace = True)\n",
    "cus_gr['count_share'] = cus_gr['count']/cus_gr['count'].sum()\n",
    "cus_gr['monetary_share'] = cus_gr['Monetary']/cus_gr['Monetary'].sum()\n",
    "cus_gr"
   ]
  },
  {
   "cell_type": "code",
   "execution_count": 20,
   "id": "0d086db8-1673-41cb-bab2-51fd725a6174",
   "metadata": {
    "tags": []
   },
   "outputs": [
    {
     "ename": "NameError",
     "evalue": "name 'cus_gr' is not defined",
     "output_type": "error",
     "traceback": [
      "\u001b[0;31m---------------------------------------------------------------------------\u001b[0m",
      "\u001b[0;31mNameError\u001b[0m                                 Traceback (most recent call last)",
      "Cell \u001b[0;32mIn[20], line 3\u001b[0m\n\u001b[1;32m      1\u001b[0m colors \u001b[38;5;241m=\u001b[39m [\u001b[38;5;124m'\u001b[39m\u001b[38;5;124m#37BEB0\u001b[39m\u001b[38;5;124m'\u001b[39m, \u001b[38;5;124m'\u001b[39m\u001b[38;5;124m#DBF5F0\u001b[39m\u001b[38;5;124m'\u001b[39m, \u001b[38;5;124m'\u001b[39m\u001b[38;5;124m#41729F\u001b[39m\u001b[38;5;124m'\u001b[39m, \u001b[38;5;124m'\u001b[39m\u001b[38;5;124m#C3E0E5\u001b[39m\u001b[38;5;124m'\u001b[39m, \u001b[38;5;124m'\u001b[39m\u001b[38;5;124m#0C6170\u001b[39m\u001b[38;5;124m'\u001b[39m, \u001b[38;5;124m'\u001b[39m\u001b[38;5;124m#5885AF\u001b[39m\u001b[38;5;124m'\u001b[39m, \u001b[38;5;124m'\u001b[39m\u001b[38;5;124m#E1C340\u001b[39m\u001b[38;5;124m'\u001b[39m, \u001b[38;5;124m'\u001b[39m\u001b[38;5;124m#274472\u001b[39m\u001b[38;5;124m'\u001b[39m, \u001b[38;5;124m'\u001b[39m\u001b[38;5;124m#F8EA8C\u001b[39m\u001b[38;5;124m'\u001b[39m, \u001b[38;5;124m'\u001b[39m\u001b[38;5;124m#A4E5E0\u001b[39m\u001b[38;5;124m'\u001b[39m, \u001b[38;5;124m'\u001b[39m\u001b[38;5;124m#1848A0\u001b[39m\u001b[38;5;124m'\u001b[39m]\n\u001b[1;32m      2\u001b[0m \u001b[38;5;28;01mfor\u001b[39;00m col \u001b[38;5;129;01min\u001b[39;00m [\u001b[38;5;124m'\u001b[39m\u001b[38;5;124mcount_share\u001b[39m\u001b[38;5;124m'\u001b[39m, \u001b[38;5;124m'\u001b[39m\u001b[38;5;124mmonetary_share\u001b[39m\u001b[38;5;124m'\u001b[39m]:\n\u001b[0;32m----> 3\u001b[0m     labels \u001b[38;5;241m=\u001b[39m cus_gr[\u001b[38;5;124m'\u001b[39m\u001b[38;5;124mSegment\u001b[39m\u001b[38;5;124m'\u001b[39m] \u001b[38;5;241m+\u001b[39m cus_gr[col]\u001b[38;5;241m.\u001b[39mapply(\u001b[38;5;28;01mlambda\u001b[39;00m x: \u001b[38;5;124m'\u001b[39m\u001b[38;5;124m (\u001b[39m\u001b[38;5;132;01m{0:.2f}\u001b[39;00m\u001b[38;5;124m%\u001b[39m\u001b[38;5;124m)\u001b[39m\u001b[38;5;124m'\u001b[39m\u001b[38;5;241m.\u001b[39mformat(x\u001b[38;5;241m*\u001b[39m\u001b[38;5;241m100\u001b[39m))\n\u001b[1;32m      5\u001b[0m     fig, ax \u001b[38;5;241m=\u001b[39m plt\u001b[38;5;241m.\u001b[39msubplots( figsize\u001b[38;5;241m=\u001b[39m(\u001b[38;5;241m15\u001b[39m,\u001b[38;5;241m5\u001b[39m))\n\u001b[1;32m      6\u001b[0m     squarify\u001b[38;5;241m.\u001b[39mplot(sizes\u001b[38;5;241m=\u001b[39mcus_gr[col], label\u001b[38;5;241m=\u001b[39mlabels, alpha\u001b[38;5;241m=\u001b[39m\u001b[38;5;241m.8\u001b[39m, color\u001b[38;5;241m=\u001b[39mcolors,\n\u001b[1;32m      7\u001b[0m                   bar_kwargs \u001b[38;5;241m=\u001b[39m \u001b[38;5;28mdict\u001b[39m(linewidth \u001b[38;5;241m=\u001b[39m \u001b[38;5;241m1.5\u001b[39m, edgecolor \u001b[38;5;241m=\u001b[39m \u001b[38;5;124m'\u001b[39m\u001b[38;5;124mwhite\u001b[39m\u001b[38;5;124m'\u001b[39m))\n",
      "\u001b[0;31mNameError\u001b[0m: name 'cus_gr' is not defined"
     ]
    }
   ],
   "source": [
    "colors = ['#37BEB0', '#DBF5F0', '#41729F', '#C3E0E5', '#0C6170', '#5885AF', '#E1C340', '#274472', '#F8EA8C', '#A4E5E0', '#1848A0']\n",
    "for col in ['count_share', 'monetary_share']:\n",
    "    labels = cus_gr['Segment'] + cus_gr[col].apply(lambda x: ' ({0:.2f}%)'.format(x*100))\n",
    "     \n",
    "    fig, ax = plt.subplots( figsize=(15,5))\n",
    "    squarify.plot(sizes=cus_gr[col], label=labels, alpha=.8, color=colors,\n",
    "                  bar_kwargs = dict(linewidth = 1.5, edgecolor = 'white'))\n",
    "    ax.set_title('RFM Segments of Customers (%s)' % col)\n",
    "    plt.axis('off')\n",
    "    plt.tight_layout()\n",
    "\n",
    "fig.savefig('/Users/huuthinle/Desktop/Ecommerce Retail/RFM Segments')"
   ]
  },
  {
   "cell_type": "markdown",
   "id": "3e75566b-4b9a-42c5-bec8-d0dfc5e578e9",
   "metadata": {},
   "source": [
    "# VI. Demographic Analysis of RFM segments\n",
    "\n",
    "The dataset contains information about orders placed by customers from all over the world. Analysis of customer's country of origing combained with RFM score gives an interesting overview of the most profitable locations.\n",
    "\n",
    "In the global market, key foreign markets - Europe such as German and France, Australia, and Japan- stands out as the most significant in terms of sales and customer base. These regions present future growth opportunities, so our immediate \n",
    "focus remains on strengthening our presence and maximizing our potential in the USA, Canada, Australia, and Japan. The success we achieve in these regions will not only bolster our global revenue but also provide valuable insights and experience as we consider future expansions into new territories such as Asia (excluding Japnan & Singapore) and Africa - with no recored customer."
   ]
  },
  {
   "cell_type": "code",
   "execution_count": 21,
   "id": "8893c660-58e6-494d-a81a-ecddfbd7c71c",
   "metadata": {
    "tags": []
   },
   "outputs": [],
   "source": [
    "country_dict = {\n",
    "    \"USA\": \"United States of America\",\n",
    "    \"Singapore\": \"Malaysia\",\n",
    "    \"Tanzania\": \"United Republic of Tanzania\",\n",
    "    \"Myanmar (Burma)\": \"Myanmar\",\n",
    "    \"RSA\": \"Russia\",\n",
    "    \"Channel Islands\": \"United Kingdom\",\n",
    "    #\"Barbados\": ,\n",
    "    \"Martinique\": \"France\",\n",
    "    \"Guadeloupe\": \"France\",\n",
    "    \"Hong Kong\": \"China\",\n",
    "    #\"Bahrain\": ,\n",
    "    \"Swaziland\": \"eSwatini\",\n",
    "}"
   ]
  },
  {
   "cell_type": "code",
   "execution_count": 22,
   "id": "9b92b800-44b3-47b9-ad14-4f1105555e75",
   "metadata": {
    "tags": []
   },
   "outputs": [
    {
     "ename": "NameError",
     "evalue": "name 'data' is not defined",
     "output_type": "error",
     "traceback": [
      "\u001b[0;31m---------------------------------------------------------------------------\u001b[0m",
      "\u001b[0;31mNameError\u001b[0m                                 Traceback (most recent call last)",
      "Cell \u001b[0;32mIn[22], line 2\u001b[0m\n\u001b[1;32m      1\u001b[0m agg_dict \u001b[38;5;241m=\u001b[39m {\u001b[38;5;124m'\u001b[39m\u001b[38;5;124mCustomerID\u001b[39m\u001b[38;5;124m'\u001b[39m:\u001b[38;5;124m'\u001b[39m\u001b[38;5;124mnunique\u001b[39m\u001b[38;5;124m'\u001b[39m, \u001b[38;5;124m'\u001b[39m\u001b[38;5;124mMonetary\u001b[39m\u001b[38;5;124m'\u001b[39m: \u001b[38;5;124m'\u001b[39m\u001b[38;5;124msum\u001b[39m\u001b[38;5;124m'\u001b[39m}\n\u001b[0;32m----> 2\u001b[0m data[\u001b[38;5;124m'\u001b[39m\u001b[38;5;124mCountry\u001b[39m\u001b[38;5;124m'\u001b[39m] \u001b[38;5;241m=\u001b[39m data[\u001b[38;5;124m'\u001b[39m\u001b[38;5;124mCountry\u001b[39m\u001b[38;5;124m'\u001b[39m]\u001b[38;5;241m.\u001b[39mapply(\u001b[38;5;28;01mlambda\u001b[39;00m x: country_dict[x] \u001b[38;5;28;01mif\u001b[39;00m x \u001b[38;5;129;01min\u001b[39;00m country_dict\u001b[38;5;241m.\u001b[39mkeys() \u001b[38;5;28;01melse\u001b[39;00m x)\n\u001b[1;32m      3\u001b[0m address \u001b[38;5;241m=\u001b[39m data\u001b[38;5;241m.\u001b[39mgroupby(\u001b[38;5;124m'\u001b[39m\u001b[38;5;124mCountry\u001b[39m\u001b[38;5;124m'\u001b[39m)\u001b[38;5;241m.\u001b[39magg(agg_dict)\u001b[38;5;241m.\u001b[39mreset_index()\n\u001b[1;32m      4\u001b[0m address\u001b[38;5;241m=\u001b[39m address\u001b[38;5;241m.\u001b[39mrename (columns\u001b[38;5;241m=\u001b[39m {\u001b[38;5;124m'\u001b[39m\u001b[38;5;124mCustomerID\u001b[39m\u001b[38;5;124m'\u001b[39m: \u001b[38;5;124m\"\u001b[39m\u001b[38;5;124mNo.Customers\u001b[39m\u001b[38;5;124m\"\u001b[39m})\n",
      "\u001b[0;31mNameError\u001b[0m: name 'data' is not defined"
     ]
    }
   ],
   "source": [
    "agg_dict = {'CustomerID':'nunique', 'Monetary': 'sum'}\n",
    "data['Country'] = data['Country'].apply(lambda x: country_dict[x] if x in country_dict.keys() else x)\n",
    "address = data.groupby('Country').agg(agg_dict).reset_index()\n",
    "address= address.rename (columns= {'CustomerID': \"No.Customers\"})\n",
    "address['Monetary'] = address['Monetary'].round(2)\n",
    "address"
   ]
  },
  {
   "cell_type": "code",
   "execution_count": 23,
   "id": "8a6a3f0b-0a0d-4935-95c4-613117ac814f",
   "metadata": {
    "tags": []
   },
   "outputs": [
    {
     "ename": "HTTPError",
     "evalue": "HTTP Error 404: Not Found",
     "output_type": "error",
     "traceback": [
      "\u001b[0;31m---------------------------------------------------------------------------\u001b[0m",
      "\u001b[0;31mHTTPError\u001b[0m                                 Traceback (most recent call last)",
      "Cell \u001b[0;32mIn[23], line 2\u001b[0m\n\u001b[1;32m      1\u001b[0m \u001b[38;5;66;03m# from urllib.request import urlopen\u001b[39;00m\n\u001b[0;32m----> 2\u001b[0m \u001b[38;5;28;01mwith\u001b[39;00m urlopen(\u001b[38;5;124m'\u001b[39m\u001b[38;5;124mhttps://raw.githubusercontent.com/thinlh07/Ecommerce-Retail/main/custom.geo\u001b[39m\u001b[38;5;124m%\u001b[39m\u001b[38;5;124m20(3).json\u001b[39m\u001b[38;5;124m'\u001b[39m) \u001b[38;5;28;01mas\u001b[39;00m response:\n\u001b[1;32m      3\u001b[0m     countries \u001b[38;5;241m=\u001b[39m json\u001b[38;5;241m.\u001b[39mload(response)\n\u001b[1;32m      5\u001b[0m \u001b[38;5;66;03m# Create the choropleth map\u001b[39;00m\n",
      "File \u001b[0;32m~/anaconda3/lib/python3.11/urllib/request.py:216\u001b[0m, in \u001b[0;36murlopen\u001b[0;34m(url, data, timeout, cafile, capath, cadefault, context)\u001b[0m\n\u001b[1;32m    214\u001b[0m \u001b[38;5;28;01melse\u001b[39;00m:\n\u001b[1;32m    215\u001b[0m     opener \u001b[38;5;241m=\u001b[39m _opener\n\u001b[0;32m--> 216\u001b[0m \u001b[38;5;28;01mreturn\u001b[39;00m opener\u001b[38;5;241m.\u001b[39mopen(url, data, timeout)\n",
      "File \u001b[0;32m~/anaconda3/lib/python3.11/urllib/request.py:525\u001b[0m, in \u001b[0;36mOpenerDirector.open\u001b[0;34m(self, fullurl, data, timeout)\u001b[0m\n\u001b[1;32m    523\u001b[0m \u001b[38;5;28;01mfor\u001b[39;00m processor \u001b[38;5;129;01min\u001b[39;00m \u001b[38;5;28mself\u001b[39m\u001b[38;5;241m.\u001b[39mprocess_response\u001b[38;5;241m.\u001b[39mget(protocol, []):\n\u001b[1;32m    524\u001b[0m     meth \u001b[38;5;241m=\u001b[39m \u001b[38;5;28mgetattr\u001b[39m(processor, meth_name)\n\u001b[0;32m--> 525\u001b[0m     response \u001b[38;5;241m=\u001b[39m meth(req, response)\n\u001b[1;32m    527\u001b[0m \u001b[38;5;28;01mreturn\u001b[39;00m response\n",
      "File \u001b[0;32m~/anaconda3/lib/python3.11/urllib/request.py:634\u001b[0m, in \u001b[0;36mHTTPErrorProcessor.http_response\u001b[0;34m(self, request, response)\u001b[0m\n\u001b[1;32m    631\u001b[0m \u001b[38;5;66;03m# According to RFC 2616, \"2xx\" code indicates that the client's\u001b[39;00m\n\u001b[1;32m    632\u001b[0m \u001b[38;5;66;03m# request was successfully received, understood, and accepted.\u001b[39;00m\n\u001b[1;32m    633\u001b[0m \u001b[38;5;28;01mif\u001b[39;00m \u001b[38;5;129;01mnot\u001b[39;00m (\u001b[38;5;241m200\u001b[39m \u001b[38;5;241m<\u001b[39m\u001b[38;5;241m=\u001b[39m code \u001b[38;5;241m<\u001b[39m \u001b[38;5;241m300\u001b[39m):\n\u001b[0;32m--> 634\u001b[0m     response \u001b[38;5;241m=\u001b[39m \u001b[38;5;28mself\u001b[39m\u001b[38;5;241m.\u001b[39mparent\u001b[38;5;241m.\u001b[39merror(\n\u001b[1;32m    635\u001b[0m         \u001b[38;5;124m'\u001b[39m\u001b[38;5;124mhttp\u001b[39m\u001b[38;5;124m'\u001b[39m, request, response, code, msg, hdrs)\n\u001b[1;32m    637\u001b[0m \u001b[38;5;28;01mreturn\u001b[39;00m response\n",
      "File \u001b[0;32m~/anaconda3/lib/python3.11/urllib/request.py:563\u001b[0m, in \u001b[0;36mOpenerDirector.error\u001b[0;34m(self, proto, *args)\u001b[0m\n\u001b[1;32m    561\u001b[0m \u001b[38;5;28;01mif\u001b[39;00m http_err:\n\u001b[1;32m    562\u001b[0m     args \u001b[38;5;241m=\u001b[39m (\u001b[38;5;28mdict\u001b[39m, \u001b[38;5;124m'\u001b[39m\u001b[38;5;124mdefault\u001b[39m\u001b[38;5;124m'\u001b[39m, \u001b[38;5;124m'\u001b[39m\u001b[38;5;124mhttp_error_default\u001b[39m\u001b[38;5;124m'\u001b[39m) \u001b[38;5;241m+\u001b[39m orig_args\n\u001b[0;32m--> 563\u001b[0m     \u001b[38;5;28;01mreturn\u001b[39;00m \u001b[38;5;28mself\u001b[39m\u001b[38;5;241m.\u001b[39m_call_chain(\u001b[38;5;241m*\u001b[39margs)\n",
      "File \u001b[0;32m~/anaconda3/lib/python3.11/urllib/request.py:496\u001b[0m, in \u001b[0;36mOpenerDirector._call_chain\u001b[0;34m(self, chain, kind, meth_name, *args)\u001b[0m\n\u001b[1;32m    494\u001b[0m \u001b[38;5;28;01mfor\u001b[39;00m handler \u001b[38;5;129;01min\u001b[39;00m handlers:\n\u001b[1;32m    495\u001b[0m     func \u001b[38;5;241m=\u001b[39m \u001b[38;5;28mgetattr\u001b[39m(handler, meth_name)\n\u001b[0;32m--> 496\u001b[0m     result \u001b[38;5;241m=\u001b[39m func(\u001b[38;5;241m*\u001b[39margs)\n\u001b[1;32m    497\u001b[0m     \u001b[38;5;28;01mif\u001b[39;00m result \u001b[38;5;129;01mis\u001b[39;00m \u001b[38;5;129;01mnot\u001b[39;00m \u001b[38;5;28;01mNone\u001b[39;00m:\n\u001b[1;32m    498\u001b[0m         \u001b[38;5;28;01mreturn\u001b[39;00m result\n",
      "File \u001b[0;32m~/anaconda3/lib/python3.11/urllib/request.py:643\u001b[0m, in \u001b[0;36mHTTPDefaultErrorHandler.http_error_default\u001b[0;34m(self, req, fp, code, msg, hdrs)\u001b[0m\n\u001b[1;32m    642\u001b[0m \u001b[38;5;28;01mdef\u001b[39;00m \u001b[38;5;21mhttp_error_default\u001b[39m(\u001b[38;5;28mself\u001b[39m, req, fp, code, msg, hdrs):\n\u001b[0;32m--> 643\u001b[0m     \u001b[38;5;28;01mraise\u001b[39;00m HTTPError(req\u001b[38;5;241m.\u001b[39mfull_url, code, msg, hdrs, fp)\n",
      "\u001b[0;31mHTTPError\u001b[0m: HTTP Error 404: Not Found"
     ]
    }
   ],
   "source": [
    "# from urllib.request import urlopen\n",
    "with urlopen('https://raw.githubusercontent.com/thinlh07/Ecommerce-Retail/main/custom.geo%20(3).json') as response:\n",
    "    countries = json.load(response)\n",
    "\n",
    "# Create the choropleth map\n",
    "fig = px.choropleth_mapbox(\n",
    "    address,\n",
    "    width=1200,\n",
    "    height=500,\n",
    "    geojson=countries,\n",
    "    locations='Country',\n",
    "    featureidkey=\"properties.sovereignt\",\n",
    "    color='No.Customers',\n",
    "    color_continuous_scale=\"Viridis\",\n",
    "    range_color = (0,20),\n",
    "    mapbox_style=\"open-street-map\",\n",
    "    zoom=1,\n",
    "    center={\"lat\": 40, \"lon\": -10},\n",
    "    opacity=0.5,\n",
    "    labels={'No.Customers': 'Number of Customers', 'Monetary': 'Monetary'},\n",
    "    hover_data={'Monetary': True, 'No.Customers': True, 'Country': True})\n",
    "\n",
    "fig.update_layout(\n",
    "    margin=dict(l=0, r=0, t=0, b=0))\n",
    "\n",
    "fig.show()"
   ]
  },
  {
   "cell_type": "code",
   "execution_count": null,
   "id": "694e12b2-96f8-4910-b0f2-d555fbc49c8d",
   "metadata": {},
   "outputs": [],
   "source": []
  },
  {
   "cell_type": "code",
   "execution_count": null,
   "id": "d5393d94-ee99-4375-8e49-7a82f82ccb71",
   "metadata": {},
   "outputs": [],
   "source": []
  },
  {
   "cell_type": "code",
   "execution_count": null,
   "id": "00def291-dc62-4261-849f-a8bc2794fd9a",
   "metadata": {},
   "outputs": [],
   "source": []
  },
  {
   "cell_type": "code",
   "execution_count": null,
   "id": "a8e39079-9504-4342-9d7d-d25547d4bc04",
   "metadata": {},
   "outputs": [],
   "source": []
  },
  {
   "cell_type": "code",
   "execution_count": null,
   "id": "ac88a049-79f6-49b5-aa01-aeb5e1448fd7",
   "metadata": {},
   "outputs": [],
   "source": []
  }
 ],
 "metadata": {
  "kernelspec": {
   "display_name": "Python 3",
   "language": "python",
   "name": "python3"
  },
  "language_info": {
   "codemirror_mode": {
    "name": "ipython",
    "version": 3
   },
   "file_extension": ".py",
   "mimetype": "text/x-python",
   "name": "python",
   "nbconvert_exporter": "python",
   "pygments_lexer": "ipython3",
   "version": "3.11.5"
  }
 },
 "nbformat": 4,
 "nbformat_minor": 5
}
